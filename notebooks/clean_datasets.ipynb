{
 "cells": [
  {
   "cell_type": "code",
   "execution_count": 466,
   "id": "1b197152",
   "metadata": {},
   "outputs": [],
   "source": [
    "import pandas as pd\n",
    "import numpy as np\n",
    "import matplotlib.pyplot as plt\n",
    "import tqdm\n",
    "from tqdm.auto import tqdm\n",
    "tqdm.pandas()"
   ]
  },
  {
   "cell_type": "markdown",
   "id": "76f1aec3",
   "metadata": {},
   "source": [
    "# CT23"
   ]
  },
  {
   "cell_type": "code",
   "execution_count": 467,
   "id": "83c8fc7a",
   "metadata": {},
   "outputs": [],
   "source": [
    "df_train = pd.read_csv(\"../data/checkworthiness/CT23_1B_checkworthy_english/CT23_1B_checkworthy_english_train.tsv\", sep=\"\\t\")\n",
    "df_validation = pd.read_csv(\"../data/checkworthiness/CT23_1B_checkworthy_english/CT23_1B_checkworthy_english_dev.tsv\", sep=\"\\t\")\n",
    "df_test = pd.read_csv(\"../data/checkworthiness/CT23_1B_checkworthy_english/CT23_1B_checkworthy_english_test_gold.tsv\", sep=\"\\t\")"
   ]
  },
  {
   "cell_type": "code",
   "execution_count": 468,
   "id": "4143d9a8",
   "metadata": {},
   "outputs": [
    {
     "name": "stdout",
     "output_type": "stream",
     "text": [
      "(16876, 3)\n"
     ]
    },
    {
     "data": {
      "text/html": [
       "<div>\n",
       "<style scoped>\n",
       "    .dataframe tbody tr th:only-of-type {\n",
       "        vertical-align: middle;\n",
       "    }\n",
       "\n",
       "    .dataframe tbody tr th {\n",
       "        vertical-align: top;\n",
       "    }\n",
       "\n",
       "    .dataframe thead th {\n",
       "        text-align: right;\n",
       "    }\n",
       "</style>\n",
       "<table border=\"1\" class=\"dataframe\">\n",
       "  <thead>\n",
       "    <tr style=\"text-align: right;\">\n",
       "      <th></th>\n",
       "      <th>Sentence_id</th>\n",
       "      <th>Text</th>\n",
       "      <th>class_label</th>\n",
       "    </tr>\n",
       "  </thead>\n",
       "  <tbody>\n",
       "    <tr>\n",
       "      <th>0</th>\n",
       "      <td>30313</td>\n",
       "      <td>And so I know that this campaign has caused so...</td>\n",
       "      <td>No</td>\n",
       "    </tr>\n",
       "    <tr>\n",
       "      <th>1</th>\n",
       "      <td>19099</td>\n",
       "      <td>Now, let's balance the budget and protect Medi...</td>\n",
       "      <td>No</td>\n",
       "    </tr>\n",
       "    <tr>\n",
       "      <th>2</th>\n",
       "      <td>33964</td>\n",
       "      <td>I'd like to mention one thing.</td>\n",
       "      <td>No</td>\n",
       "    </tr>\n",
       "    <tr>\n",
       "      <th>3</th>\n",
       "      <td>16871</td>\n",
       "      <td>I must remind him the Democrats have controlle...</td>\n",
       "      <td>Yes</td>\n",
       "    </tr>\n",
       "    <tr>\n",
       "      <th>4</th>\n",
       "      <td>13150</td>\n",
       "      <td>And to take a chance uh - now be - and not mak...</td>\n",
       "      <td>No</td>\n",
       "    </tr>\n",
       "  </tbody>\n",
       "</table>\n",
       "</div>"
      ],
      "text/plain": [
       "   Sentence_id                                               Text class_label\n",
       "0        30313  And so I know that this campaign has caused so...          No\n",
       "1        19099  Now, let's balance the budget and protect Medi...          No\n",
       "2        33964                     I'd like to mention one thing.          No\n",
       "3        16871  I must remind him the Democrats have controlle...         Yes\n",
       "4        13150  And to take a chance uh - now be - and not mak...          No"
      ]
     },
     "execution_count": 468,
     "metadata": {},
     "output_type": "execute_result"
    }
   ],
   "source": [
    "print(df_train.shape)\n",
    "df_train.head()"
   ]
  },
  {
   "cell_type": "code",
   "execution_count": 469,
   "id": "17e9dc44",
   "metadata": {},
   "outputs": [
    {
     "name": "stdout",
     "output_type": "stream",
     "text": [
      "(5625, 3)\n"
     ]
    },
    {
     "data": {
      "text/html": [
       "<div>\n",
       "<style scoped>\n",
       "    .dataframe tbody tr th:only-of-type {\n",
       "        vertical-align: middle;\n",
       "    }\n",
       "\n",
       "    .dataframe tbody tr th {\n",
       "        vertical-align: top;\n",
       "    }\n",
       "\n",
       "    .dataframe thead th {\n",
       "        text-align: right;\n",
       "    }\n",
       "</style>\n",
       "<table border=\"1\" class=\"dataframe\">\n",
       "  <thead>\n",
       "    <tr style=\"text-align: right;\">\n",
       "      <th></th>\n",
       "      <th>Sentence_id</th>\n",
       "      <th>Text</th>\n",
       "      <th>class_label</th>\n",
       "    </tr>\n",
       "  </thead>\n",
       "  <tbody>\n",
       "    <tr>\n",
       "      <th>0</th>\n",
       "      <td>29286</td>\n",
       "      <td>You can't bring back jobs.</td>\n",
       "      <td>No</td>\n",
       "    </tr>\n",
       "    <tr>\n",
       "      <th>1</th>\n",
       "      <td>23105</td>\n",
       "      <td>And you'll find a tort reform plan.</td>\n",
       "      <td>No</td>\n",
       "    </tr>\n",
       "    <tr>\n",
       "      <th>2</th>\n",
       "      <td>10665</td>\n",
       "      <td>We can work on nuclear power plants.</td>\n",
       "      <td>No</td>\n",
       "    </tr>\n",
       "    <tr>\n",
       "      <th>3</th>\n",
       "      <td>17398</td>\n",
       "      <td>So, I think that many Democrats are seeing the...</td>\n",
       "      <td>No</td>\n",
       "    </tr>\n",
       "    <tr>\n",
       "      <th>4</th>\n",
       "      <td>7334</td>\n",
       "      <td>And we fixed it for a reason: because there ar...</td>\n",
       "      <td>No</td>\n",
       "    </tr>\n",
       "  </tbody>\n",
       "</table>\n",
       "</div>"
      ],
      "text/plain": [
       "   Sentence_id                                               Text class_label\n",
       "0        29286                         You can't bring back jobs.          No\n",
       "1        23105                And you'll find a tort reform plan.          No\n",
       "2        10665               We can work on nuclear power plants.          No\n",
       "3        17398  So, I think that many Democrats are seeing the...          No\n",
       "4         7334  And we fixed it for a reason: because there ar...          No"
      ]
     },
     "execution_count": 469,
     "metadata": {},
     "output_type": "execute_result"
    }
   ],
   "source": [
    "print(df_validation.shape)\n",
    "df_validation.head()"
   ]
  },
  {
   "cell_type": "code",
   "execution_count": 470,
   "id": "fcfd5298",
   "metadata": {},
   "outputs": [
    {
     "name": "stdout",
     "output_type": "stream",
     "text": [
      "(318, 3)\n"
     ]
    },
    {
     "data": {
      "text/html": [
       "<div>\n",
       "<style scoped>\n",
       "    .dataframe tbody tr th:only-of-type {\n",
       "        vertical-align: middle;\n",
       "    }\n",
       "\n",
       "    .dataframe tbody tr th {\n",
       "        vertical-align: top;\n",
       "    }\n",
       "\n",
       "    .dataframe thead th {\n",
       "        text-align: right;\n",
       "    }\n",
       "</style>\n",
       "<table border=\"1\" class=\"dataframe\">\n",
       "  <thead>\n",
       "    <tr style=\"text-align: right;\">\n",
       "      <th></th>\n",
       "      <th>Sentence_id</th>\n",
       "      <th>Text</th>\n",
       "      <th>class_label</th>\n",
       "    </tr>\n",
       "  </thead>\n",
       "  <tbody>\n",
       "    <tr>\n",
       "      <th>0</th>\n",
       "      <td>37436</td>\n",
       "      <td>He's been a professor for a long time at a gre...</td>\n",
       "      <td>No</td>\n",
       "    </tr>\n",
       "    <tr>\n",
       "      <th>1</th>\n",
       "      <td>37440</td>\n",
       "      <td>There's no way they would give it up.</td>\n",
       "      <td>No</td>\n",
       "    </tr>\n",
       "    <tr>\n",
       "      <th>2</th>\n",
       "      <td>37463</td>\n",
       "      <td>They're able to charge women more for the same...</td>\n",
       "      <td>Yes</td>\n",
       "    </tr>\n",
       "    <tr>\n",
       "      <th>3</th>\n",
       "      <td>37470</td>\n",
       "      <td>As far as a say is concerned, the people alrea...</td>\n",
       "      <td>No</td>\n",
       "    </tr>\n",
       "    <tr>\n",
       "      <th>4</th>\n",
       "      <td>37504</td>\n",
       "      <td>I am the Democratic Party right now.</td>\n",
       "      <td>No</td>\n",
       "    </tr>\n",
       "  </tbody>\n",
       "</table>\n",
       "</div>"
      ],
      "text/plain": [
       "   Sentence_id                                               Text class_label\n",
       "0        37436  He's been a professor for a long time at a gre...          No\n",
       "1        37440              There's no way they would give it up.          No\n",
       "2        37463  They're able to charge women more for the same...         Yes\n",
       "3        37470  As far as a say is concerned, the people alrea...          No\n",
       "4        37504               I am the Democratic Party right now.          No"
      ]
     },
     "execution_count": 470,
     "metadata": {},
     "output_type": "execute_result"
    }
   ],
   "source": [
    "print(df_test.shape)\n",
    "df_test.head()"
   ]
  },
  {
   "cell_type": "code",
   "execution_count": 471,
   "id": "ca10e7cd",
   "metadata": {},
   "outputs": [],
   "source": [
    "train_list = df_train[\"Text\"].tolist()\n",
    "validation_list = df_validation[\"Text\"].tolist()\n",
    "test_list = df_test[\"Text\"].tolist()"
   ]
  },
  {
   "cell_type": "code",
   "execution_count": 472,
   "id": "ed408d7c",
   "metadata": {},
   "outputs": [
    {
     "data": {
      "application/vnd.jupyter.widget-view+json": {
       "model_id": "6f4b21d4e23e4631ba8b8dbec8e083a9",
       "version_major": 2,
       "version_minor": 0
      },
      "text/plain": [
       "0it [00:00, ?it/s]"
      ]
     },
     "metadata": {},
     "output_type": "display_data"
    },
    {
     "name": "stdout",
     "output_type": "stream",
     "text": [
      "We have a government that doesn't work.\n",
      "I'd like to respond to that.\n",
      "I think the matter is settled once and for all.\n",
      "I will balance the budget every year.\n",
      "I'm going to change that.\n",
      "I'll give you an example.\n",
      "And I'm very proud of it.\n",
      "We created 23 million new jobs.\n",
      "I think that's a mistake.\n",
      "We don't know who the rebels are.\n",
      "Thank you very, very much.\n",
      "It shouldn't happen in America.\n",
      "But I think we're all in this together, and my plea to the American people is values in the schools.\n",
      "We have to bring back law and order.\n",
      "Let's get back to Medicare.\n",
      "We had a better idea.\n",
      "I don't agree with that.\n",
      "Thank you for your question.\n",
      "We're 9 million jobs short of that.\n",
      "That's got to be changed.\n",
      "But we also have to take demand seriously.\n",
      "Where did you find this?\n",
      "That I can tell you.\n",
      "Governors like me and others have been trying to deal with the consequences.\n",
      "I can't think of any.\n",
      "Here we are with a government that's been dealing with a drug-running Panamanian dictator.\n",
      "Where did you find this?\n",
      "And Mr. Bush is right - the two go hand in hand.\n",
      "I don't want to --\n",
      "I did not say that.\n",
      "We can do better than that.\n",
      "I'll give you an example.\n",
      "Mr. Bush picked Dan Quayle.\n",
      "But if our government itself is doing business with people who we know are engaged in drug profiteering and drug trafficking, if we don't understand that that sends out a very, very bad message to our young people, it's a little difficult for me to understand just how we can reach out to that youngster that I talked about and to young people like her all over the country, and say to them we want to help you.\n",
      "#NAME?\n",
      "I'm not proud of it.\n",
      "It'd be fine with me.\n",
      "\n",
      "37 duplicates in validation that are also present in train\n"
     ]
    }
   ],
   "source": [
    "counter = 0\n",
    "to_remove = []\n",
    "for i, data in tqdm(df_validation.iterrows()):\n",
    "    if data[\"Text\"] in train_list:\n",
    "        to_remove.append(data[\"Sentence_id\"])\n",
    "        print(data[\"Text\"])\n",
    "        counter += 1\n",
    "\n",
    "print()        \n",
    "print(f\"{counter} duplicates in validation that are also present in train\")"
   ]
  },
  {
   "cell_type": "code",
   "execution_count": 473,
   "id": "f027ef8c",
   "metadata": {},
   "outputs": [
    {
     "name": "stdout",
     "output_type": "stream",
     "text": [
      "(5625, 3)\n",
      "(5588, 3)\n"
     ]
    }
   ],
   "source": [
    "print(df_validation.shape)\n",
    "df_validation = df_validation[~df_validation.Sentence_id.isin(to_remove)]\n",
    "print(df_validation.shape)"
   ]
  },
  {
   "cell_type": "code",
   "execution_count": 474,
   "id": "0f9ab06f",
   "metadata": {},
   "outputs": [
    {
     "data": {
      "application/vnd.jupyter.widget-view+json": {
       "model_id": "674908957bfa46a2ba0f7e489b52a604",
       "version_major": 2,
       "version_minor": 0
      },
      "text/plain": [
       "0it [00:00, ?it/s]"
      ]
     },
     "metadata": {},
     "output_type": "display_data"
    },
    {
     "name": "stdout",
     "output_type": "stream",
     "text": [
      "I'll give you an example.\n",
      "Why didn't you do it?\n",
      "\n",
      "2 duplicates in test that are also present in train\n"
     ]
    }
   ],
   "source": [
    "counter = 0\n",
    "to_remove = []\n",
    "for i, data in tqdm(df_test.iterrows()):\n",
    "    if data[\"Text\"] in train_list:\n",
    "        to_remove.append(data[\"Sentence_id\"])\n",
    "        print(data[\"Text\"])\n",
    "        counter += 1\n",
    "\n",
    "print()        \n",
    "print(f\"{counter} duplicates in test that are also present in train\")"
   ]
  },
  {
   "cell_type": "code",
   "execution_count": 475,
   "id": "44cc3351",
   "metadata": {},
   "outputs": [
    {
     "name": "stdout",
     "output_type": "stream",
     "text": [
      "(318, 3)\n",
      "(316, 3)\n"
     ]
    }
   ],
   "source": [
    "print(df_test.shape)\n",
    "df_test = df_test[~df_test.Sentence_id.isin(to_remove)]\n",
    "print(df_test.shape)"
   ]
  },
  {
   "cell_type": "code",
   "execution_count": 476,
   "id": "839b1ea9",
   "metadata": {},
   "outputs": [
    {
     "data": {
      "application/vnd.jupyter.widget-view+json": {
       "model_id": "eeb5995866a14c88accec1b44a0b445f",
       "version_major": 2,
       "version_minor": 0
      },
      "text/plain": [
       "0it [00:00, ?it/s]"
      ]
     },
     "metadata": {},
     "output_type": "display_data"
    },
    {
     "name": "stdout",
     "output_type": "stream",
     "text": [
      "Can I respond to that?\n",
      "\n",
      "1 duplicates in validation that are also present in test\n"
     ]
    }
   ],
   "source": [
    "counter = 0\n",
    "to_remove = []\n",
    "for i, data in tqdm(df_validation.iterrows()):\n",
    "    if data[\"Text\"] in test_list:\n",
    "        to_remove.append(data[\"Sentence_id\"])\n",
    "        print(data[\"Text\"])\n",
    "        counter += 1\n",
    "\n",
    "print()        \n",
    "print(f\"{counter} duplicates in validation that are also present in test\")"
   ]
  },
  {
   "cell_type": "code",
   "execution_count": 477,
   "id": "1160069d",
   "metadata": {},
   "outputs": [
    {
     "name": "stdout",
     "output_type": "stream",
     "text": [
      "(5588, 3)\n",
      "(5587, 3)\n"
     ]
    }
   ],
   "source": [
    "print(df_validation.shape)\n",
    "df_validation = df_validation[~df_validation.Sentence_id.isin(to_remove)]\n",
    "print(df_validation.shape)"
   ]
  },
  {
   "cell_type": "code",
   "execution_count": 478,
   "id": "011a9de7",
   "metadata": {},
   "outputs": [
    {
     "data": {
      "image/png": "[encoded data removed]",
      "text/plain": [
       "<Figure size 640x480 with 1 Axes>"
      ]
     },
     "metadata": {},
     "output_type": "display_data"
    },
    {
     "data": {
      "text/plain": [
       "No     75.954018\n",
       "Yes    24.045982\n",
       "Name: class_label, dtype: float64"
      ]
     },
     "execution_count": 478,
     "metadata": {},
     "output_type": "execute_result"
    }
   ],
   "source": [
    "plt.hist(df_train[\"class_label\"])\n",
    "plt.show()\n",
    "\n",
    "(df_train[\"class_label\"].value_counts()/df_train[\"class_label\"].count()) * 100"
   ]
  },
  {
   "cell_type": "code",
   "execution_count": 479,
   "id": "fddf15fa",
   "metadata": {},
   "outputs": [
    {
     "data": {
      "image/png": "[encoded data removed]",
      "text/plain": [
       "<Figure size 640x480 with 1 Axes>"
      ]
     },
     "metadata": {},
     "output_type": "display_data"
    },
    {
     "data": {
      "text/plain": [
       "No     75.818865\n",
       "Yes    24.181135\n",
       "Name: class_label, dtype: float64"
      ]
     },
     "execution_count": 479,
     "metadata": {},
     "output_type": "execute_result"
    }
   ],
   "source": [
    "plt.hist(df_validation[\"class_label\"])\n",
    "plt.show()\n",
    "\n",
    "(df_validation[\"class_label\"].value_counts()/df_validation[\"class_label\"].count()) * 100"
   ]
  },
  {
   "cell_type": "code",
   "execution_count": 480,
   "id": "5b85af1a",
   "metadata": {},
   "outputs": [
    {
     "data": {
      "image/png": "[encoded data removed]",
      "text/plain": [
       "<Figure size 640x480 with 1 Axes>"
      ]
     },
     "metadata": {},
     "output_type": "display_data"
    },
    {
     "data": {
      "text/plain": [
       "No     65.822785\n",
       "Yes    34.177215\n",
       "Name: class_label, dtype: float64"
      ]
     },
     "execution_count": 480,
     "metadata": {},
     "output_type": "execute_result"
    }
   ],
   "source": [
    "plt.hist(df_test[\"class_label\"])\n",
    "plt.show()\n",
    "\n",
    "(df_test[\"class_label\"].value_counts()/df_test[\"class_label\"].count()) * 100"
   ]
  },
  {
   "cell_type": "code",
   "execution_count": 481,
   "id": "bfebeeee",
   "metadata": {},
   "outputs": [],
   "source": [
    "df_train.to_csv(\"../data/checkworthiness/CT23_1B_checkworthy_english/CT23_1B_checkworthy_english_train.tsv\", sep=\"\\t\", index=False)\n",
    "df_validation.to_csv(\"../data/checkworthiness/CT23_1B_checkworthy_english/CT23_1B_checkworthy_english_dev.tsv\", sep=\"\\t\", index=False)\n",
    "df_test.to_csv(\"../data/checkworthiness/CT23_1B_checkworthy_english/CT23_1B_checkworthy_english_test_gold.tsv\", sep=\"\\t\", index=False)"
   ]
  },
  {
   "cell_type": "markdown",
   "id": "2abe6b4a",
   "metadata": {},
   "source": [
    "# FEVER"
   ]
  },
  {
   "cell_type": "code",
   "execution_count": 500,
   "id": "ca87e041",
   "metadata": {},
   "outputs": [],
   "source": [
    "df_train = pd.read_csv(\"../data/verification/FEVER/fever_train_sampled.csv\", index_col=0)\n",
    "df_validation = pd.read_csv(\"../data/verification/FEVER/fever_validation.csv\", index_col=0)\n",
    "df_test = pd.read_csv(\"../data/verification/FEVER/fever_test.csv\", index_col=0)"
   ]
  },
  {
   "cell_type": "code",
   "execution_count": 501,
   "id": "32ff176e",
   "metadata": {},
   "outputs": [
    {
     "name": "stdout",
     "output_type": "stream",
     "text": [
      "(15000, 4)\n",
      "True\n"
     ]
    },
    {
     "data": {
      "text/html": [
       "<div>\n",
       "<style scoped>\n",
       "    .dataframe tbody tr th:only-of-type {\n",
       "        vertical-align: middle;\n",
       "    }\n",
       "\n",
       "    .dataframe tbody tr th {\n",
       "        vertical-align: top;\n",
       "    }\n",
       "\n",
       "    .dataframe thead th {\n",
       "        text-align: right;\n",
       "    }\n",
       "</style>\n",
       "<table border=\"1\" class=\"dataframe\">\n",
       "  <thead>\n",
       "    <tr style=\"text-align: right;\">\n",
       "      <th></th>\n",
       "      <th>claim</th>\n",
       "      <th>evidence</th>\n",
       "      <th>id</th>\n",
       "      <th>label</th>\n",
       "    </tr>\n",
       "  </thead>\n",
       "  <tbody>\n",
       "    <tr>\n",
       "      <th>0</th>\n",
       "      <td>The Nilotic languages are spoken in Tanzania.</td>\n",
       "      <td>[['Nilotic_languages', '0', 'The Nilotic langu...</td>\n",
       "      <td>c7858f1b36fa9029e2fc0dee1a8da8b9</td>\n",
       "      <td>1</td>\n",
       "    </tr>\n",
       "    <tr>\n",
       "      <th>1</th>\n",
       "      <td>Manchester City F.C. continued in 2008.</td>\n",
       "      <td>[['Manchester_City_F.C.', '7', 'Having regaine...</td>\n",
       "      <td>269ae705ada0d479f9b9ec2d9dbc663c</td>\n",
       "      <td>2</td>\n",
       "    </tr>\n",
       "    <tr>\n",
       "      <th>2</th>\n",
       "      <td>Jack Black attended acting school for Kung Fu ...</td>\n",
       "      <td>[['Jack_Black', '2', \"He is known for his role...</td>\n",
       "      <td>dd3deeb1f1a09b271734711015cb3b67</td>\n",
       "      <td>2</td>\n",
       "    </tr>\n",
       "    <tr>\n",
       "      <th>3</th>\n",
       "      <td>Karan Johar writes screenplays.</td>\n",
       "      <td>[['Karan_Johar', '4', 'Johar made his director...</td>\n",
       "      <td>854397cd93949f4d934c8535fd224d11</td>\n",
       "      <td>1</td>\n",
       "    </tr>\n",
       "    <tr>\n",
       "      <th>4</th>\n",
       "      <td>Winona Ryder is not an actress.</td>\n",
       "      <td>[['Winona_Ryder', '19', 'In 2010 , she was nom...</td>\n",
       "      <td>5bf426143b261ebe2e276a111a422d47</td>\n",
       "      <td>0</td>\n",
       "    </tr>\n",
       "  </tbody>\n",
       "</table>\n",
       "</div>"
      ],
      "text/plain": [
       "                                               claim  \\\n",
       "0      The Nilotic languages are spoken in Tanzania.   \n",
       "1            Manchester City F.C. continued in 2008.   \n",
       "2  Jack Black attended acting school for Kung Fu ...   \n",
       "3                    Karan Johar writes screenplays.   \n",
       "4                    Winona Ryder is not an actress.   \n",
       "\n",
       "                                            evidence  \\\n",
       "0  [['Nilotic_languages', '0', 'The Nilotic langu...   \n",
       "1  [['Manchester_City_F.C.', '7', 'Having regaine...   \n",
       "2  [['Jack_Black', '2', \"He is known for his role...   \n",
       "3  [['Karan_Johar', '4', 'Johar made his director...   \n",
       "4  [['Winona_Ryder', '19', 'In 2010 , she was nom...   \n",
       "\n",
       "                                 id  label  \n",
       "0  c7858f1b36fa9029e2fc0dee1a8da8b9      1  \n",
       "1  269ae705ada0d479f9b9ec2d9dbc663c      2  \n",
       "2  dd3deeb1f1a09b271734711015cb3b67      2  \n",
       "3  854397cd93949f4d934c8535fd224d11      1  \n",
       "4  5bf426143b261ebe2e276a111a422d47      0  "
      ]
     },
     "execution_count": 501,
     "metadata": {},
     "output_type": "execute_result"
    }
   ],
   "source": [
    "print(df_train.shape)\n",
    "print(list(range(0, df_train.shape[0])) == df_train.index.tolist())\n",
    "df_train.head()"
   ]
  },
  {
   "cell_type": "code",
   "execution_count": 502,
   "id": "ad4b2d91",
   "metadata": {},
   "outputs": [
    {
     "name": "stdout",
     "output_type": "stream",
     "text": [
      "(15935, 6)\n",
      "True\n"
     ]
    },
    {
     "data": {
      "text/html": [
       "<div>\n",
       "<style scoped>\n",
       "    .dataframe tbody tr th:only-of-type {\n",
       "        vertical-align: middle;\n",
       "    }\n",
       "\n",
       "    .dataframe tbody tr th {\n",
       "        vertical-align: top;\n",
       "    }\n",
       "\n",
       "    .dataframe thead th {\n",
       "        text-align: right;\n",
       "    }\n",
       "</style>\n",
       "<table border=\"1\" class=\"dataframe\">\n",
       "  <thead>\n",
       "    <tr style=\"text-align: right;\">\n",
       "      <th></th>\n",
       "      <th>claim</th>\n",
       "      <th>label</th>\n",
       "      <th>evidence</th>\n",
       "      <th>id</th>\n",
       "      <th>verifiable</th>\n",
       "      <th>original_id</th>\n",
       "    </tr>\n",
       "  </thead>\n",
       "  <tbody>\n",
       "    <tr>\n",
       "      <th>0</th>\n",
       "      <td>Jackie (2016 film) was directed by Peter Jackson.</td>\n",
       "      <td>REFUTES</td>\n",
       "      <td>[['Jackie_-LRB-2016_film-RRB-', '0', 'Jackie i...</td>\n",
       "      <td>e9a7305690bde211b7434ccd53b3a763</td>\n",
       "      <td>VERIFIABLE</td>\n",
       "      <td>70882</td>\n",
       "    </tr>\n",
       "    <tr>\n",
       "      <th>1</th>\n",
       "      <td>The CONCACAF Champions League is organized for...</td>\n",
       "      <td>REFUTES</td>\n",
       "      <td>[['CONCACAF_Champions_League', '0', 'The CONCA...</td>\n",
       "      <td>82caf51ce8a246f1b5244cc1fd8ca9d4</td>\n",
       "      <td>VERIFIABLE</td>\n",
       "      <td>37715</td>\n",
       "    </tr>\n",
       "    <tr>\n",
       "      <th>2</th>\n",
       "      <td>Syracuse, New York, had a population of 145,17...</td>\n",
       "      <td>SUPPORTS</td>\n",
       "      <td>[['Syracuse,_New_York', '2', 'At the 2010 cens...</td>\n",
       "      <td>b8182754eb4410163c45b97ddb3b6de1</td>\n",
       "      <td>VERIFIABLE</td>\n",
       "      <td>171594</td>\n",
       "    </tr>\n",
       "    <tr>\n",
       "      <th>3</th>\n",
       "      <td>Eric Church has written over 100 songs.</td>\n",
       "      <td>NOT ENOUGH INFO</td>\n",
       "      <td>[['Luke_Laird', '3', 'He has also written and ...</td>\n",
       "      <td>2ab70646fffa23b2c2546796d6d85fd3</td>\n",
       "      <td>NOT VERIFIABLE</td>\n",
       "      <td>42459</td>\n",
       "    </tr>\n",
       "    <tr>\n",
       "      <th>4</th>\n",
       "      <td>Ludwig van Beethoven was born in 1787.</td>\n",
       "      <td>NOT ENOUGH INFO</td>\n",
       "      <td>[['Ludwig_van_Beethoven', '5', 'Born in Bonn ,...</td>\n",
       "      <td>95bcef60842dc24a2d9b18ae25020303</td>\n",
       "      <td>NOT VERIFIABLE</td>\n",
       "      <td>223665</td>\n",
       "    </tr>\n",
       "  </tbody>\n",
       "</table>\n",
       "</div>"
      ],
      "text/plain": [
       "                                               claim            label  \\\n",
       "0  Jackie (2016 film) was directed by Peter Jackson.          REFUTES   \n",
       "1  The CONCACAF Champions League is organized for...          REFUTES   \n",
       "2  Syracuse, New York, had a population of 145,17...         SUPPORTS   \n",
       "3            Eric Church has written over 100 songs.  NOT ENOUGH INFO   \n",
       "4             Ludwig van Beethoven was born in 1787.  NOT ENOUGH INFO   \n",
       "\n",
       "                                            evidence  \\\n",
       "0  [['Jackie_-LRB-2016_film-RRB-', '0', 'Jackie i...   \n",
       "1  [['CONCACAF_Champions_League', '0', 'The CONCA...   \n",
       "2  [['Syracuse,_New_York', '2', 'At the 2010 cens...   \n",
       "3  [['Luke_Laird', '3', 'He has also written and ...   \n",
       "4  [['Ludwig_van_Beethoven', '5', 'Born in Bonn ,...   \n",
       "\n",
       "                                 id      verifiable  original_id  \n",
       "0  e9a7305690bde211b7434ccd53b3a763      VERIFIABLE        70882  \n",
       "1  82caf51ce8a246f1b5244cc1fd8ca9d4      VERIFIABLE        37715  \n",
       "2  b8182754eb4410163c45b97ddb3b6de1      VERIFIABLE       171594  \n",
       "3  2ab70646fffa23b2c2546796d6d85fd3  NOT VERIFIABLE        42459  \n",
       "4  95bcef60842dc24a2d9b18ae25020303  NOT VERIFIABLE       223665  "
      ]
     },
     "execution_count": 502,
     "metadata": {},
     "output_type": "execute_result"
    }
   ],
   "source": [
    "print(df_validation.shape)\n",
    "print(list(range(0, df_validation.shape[0])) == df_validation.index.tolist())\n",
    "df_validation.head()"
   ]
  },
  {
   "cell_type": "code",
   "execution_count": 503,
   "id": "6baa0417",
   "metadata": {},
   "outputs": [
    {
     "name": "stdout",
     "output_type": "stream",
     "text": [
      "(16039, 6)\n",
      "True\n"
     ]
    },
    {
     "data": {
      "text/html": [
       "<div>\n",
       "<style scoped>\n",
       "    .dataframe tbody tr th:only-of-type {\n",
       "        vertical-align: middle;\n",
       "    }\n",
       "\n",
       "    .dataframe tbody tr th {\n",
       "        vertical-align: top;\n",
       "    }\n",
       "\n",
       "    .dataframe thead th {\n",
       "        text-align: right;\n",
       "    }\n",
       "</style>\n",
       "<table border=\"1\" class=\"dataframe\">\n",
       "  <thead>\n",
       "    <tr style=\"text-align: right;\">\n",
       "      <th></th>\n",
       "      <th>claim</th>\n",
       "      <th>label</th>\n",
       "      <th>evidence</th>\n",
       "      <th>id</th>\n",
       "      <th>verifiable</th>\n",
       "      <th>original_id</th>\n",
       "    </tr>\n",
       "  </thead>\n",
       "  <tbody>\n",
       "    <tr>\n",
       "      <th>0</th>\n",
       "      <td>Kareena Kapoor was a commercial failure.</td>\n",
       "      <td>NOT ENOUGH INFO</td>\n",
       "      <td>[['Kareena_Kapoor', '6', 'This initial success...</td>\n",
       "      <td>9d6e35c175cff59b9b6d926446f62d1d</td>\n",
       "      <td>NOT VERIFIABLE</td>\n",
       "      <td>23567</td>\n",
       "    </tr>\n",
       "    <tr>\n",
       "      <th>1</th>\n",
       "      <td>Natasha Lyonne was born in 1995.</td>\n",
       "      <td>REFUTES</td>\n",
       "      <td>[['Natasha_Lyonne', '0', 'Natasha Bianca Lyonn...</td>\n",
       "      <td>91d4d8fe6b87c39fd8be83114415ac04</td>\n",
       "      <td>VERIFIABLE</td>\n",
       "      <td>68676</td>\n",
       "    </tr>\n",
       "    <tr>\n",
       "      <th>2</th>\n",
       "      <td>The Maze Runner is a sports competition.</td>\n",
       "      <td>REFUTES</td>\n",
       "      <td>[['The_Maze_Runner_-LRB-film-RRB-', '1', 'The ...</td>\n",
       "      <td>e89ba0251cdaf5a9ca315a99b0d48e13</td>\n",
       "      <td>VERIFIABLE</td>\n",
       "      <td>43554</td>\n",
       "    </tr>\n",
       "    <tr>\n",
       "      <th>3</th>\n",
       "      <td>Oscar Isaac acted in Twilight.</td>\n",
       "      <td>NOT ENOUGH INFO</td>\n",
       "      <td>[['Oscar_Hernandez', '17', 'Oscar Isaac -LRB- ...</td>\n",
       "      <td>4a5bfe6a7c55f55ce3deecbd89e43a52</td>\n",
       "      <td>NOT VERIFIABLE</td>\n",
       "      <td>10499</td>\n",
       "    </tr>\n",
       "    <tr>\n",
       "      <th>4</th>\n",
       "      <td>Designated Survivor (TV series) is a televisio...</td>\n",
       "      <td>SUPPORTS</td>\n",
       "      <td>[['Designated_Survivor_-LRB-TV_series-RRB-', '...</td>\n",
       "      <td>e4882c5eed7ce02a58d825f3c4cc045c</td>\n",
       "      <td>VERIFIABLE</td>\n",
       "      <td>72143</td>\n",
       "    </tr>\n",
       "  </tbody>\n",
       "</table>\n",
       "</div>"
      ],
      "text/plain": [
       "                                               claim            label  \\\n",
       "0           Kareena Kapoor was a commercial failure.  NOT ENOUGH INFO   \n",
       "1                   Natasha Lyonne was born in 1995.          REFUTES   \n",
       "2           The Maze Runner is a sports competition.          REFUTES   \n",
       "3                     Oscar Isaac acted in Twilight.  NOT ENOUGH INFO   \n",
       "4  Designated Survivor (TV series) is a televisio...         SUPPORTS   \n",
       "\n",
       "                                            evidence  \\\n",
       "0  [['Kareena_Kapoor', '6', 'This initial success...   \n",
       "1  [['Natasha_Lyonne', '0', 'Natasha Bianca Lyonn...   \n",
       "2  [['The_Maze_Runner_-LRB-film-RRB-', '1', 'The ...   \n",
       "3  [['Oscar_Hernandez', '17', 'Oscar Isaac -LRB- ...   \n",
       "4  [['Designated_Survivor_-LRB-TV_series-RRB-', '...   \n",
       "\n",
       "                                 id      verifiable  original_id  \n",
       "0  9d6e35c175cff59b9b6d926446f62d1d  NOT VERIFIABLE        23567  \n",
       "1  91d4d8fe6b87c39fd8be83114415ac04      VERIFIABLE        68676  \n",
       "2  e89ba0251cdaf5a9ca315a99b0d48e13      VERIFIABLE        43554  \n",
       "3  4a5bfe6a7c55f55ce3deecbd89e43a52  NOT VERIFIABLE        10499  \n",
       "4  e4882c5eed7ce02a58d825f3c4cc045c      VERIFIABLE        72143  "
      ]
     },
     "execution_count": 503,
     "metadata": {},
     "output_type": "execute_result"
    }
   ],
   "source": [
    "print(df_test.shape)\n",
    "print(list(range(0, df_test.shape[0])) == df_test.index.tolist())\n",
    "df_test.head()"
   ]
  },
  {
   "cell_type": "code",
   "execution_count": 504,
   "id": "e6b21f8e",
   "metadata": {},
   "outputs": [],
   "source": [
    "train_list = df_train[\"claim\"].tolist()\n",
    "validation_list = df_validation[\"claim\"].tolist()\n",
    "test_list = df_test[\"claim\"].tolist()"
   ]
  },
  {
   "cell_type": "code",
   "execution_count": 505,
   "id": "ab80c9d6",
   "metadata": {},
   "outputs": [
    {
     "data": {
      "text/plain": [
       "set()"
      ]
     },
     "execution_count": 505,
     "metadata": {},
     "output_type": "execute_result"
    }
   ],
   "source": [
    "set(df_validation.index.tolist()).intersection(set(to_remove))"
   ]
  },
  {
   "cell_type": "code",
   "execution_count": 506,
   "id": "3893c613",
   "metadata": {},
   "outputs": [
    {
     "name": "stdout",
     "output_type": "stream",
     "text": [
      "(15935, 6)\n",
      "(15935, 6)\n"
     ]
    }
   ],
   "source": [
    "print(df_validation.shape)\n",
    "df_validation = df_validation[~df_validation.index.isin(to_remove)]\n",
    "print(df_validation.shape)"
   ]
  },
  {
   "cell_type": "code",
   "execution_count": 507,
   "id": "d576f9f8",
   "metadata": {},
   "outputs": [
    {
     "data": {
      "application/vnd.jupyter.widget-view+json": {
       "model_id": "e280bef1f12d478691dad08676299296",
       "version_major": 2,
       "version_minor": 0
      },
      "text/plain": [
       "0it [00:00, ?it/s]"
      ]
     },
     "metadata": {},
     "output_type": "display_data"
    },
    {
     "name": "stdout",
     "output_type": "stream",
     "text": [
      "\n",
      "0 duplicates in test that are also present in train\n"
     ]
    }
   ],
   "source": [
    "counter = 0\n",
    "to_remove = []\n",
    "for i, data in tqdm(df_test.iterrows()):\n",
    "    if data[\"claim\"] in train_list:\n",
    "        to_remove.append(i)\n",
    "        print(data[\"claim\"])\n",
    "        counter += 1\n",
    "\n",
    "print()        \n",
    "print(f\"{counter} duplicates in test that are also present in train\")"
   ]
  },
  {
   "cell_type": "code",
   "execution_count": 508,
   "id": "d940fb58",
   "metadata": {},
   "outputs": [
    {
     "data": {
      "text/plain": [
       "set()"
      ]
     },
     "execution_count": 508,
     "metadata": {},
     "output_type": "execute_result"
    }
   ],
   "source": [
    "set(df_test.index.tolist()).intersection(set(to_remove))"
   ]
  },
  {
   "cell_type": "code",
   "execution_count": 509,
   "id": "fae595d6",
   "metadata": {},
   "outputs": [
    {
     "name": "stdout",
     "output_type": "stream",
     "text": [
      "(16039, 6)\n",
      "(16039, 6)\n"
     ]
    }
   ],
   "source": [
    "print(df_test.shape)\n",
    "df_test = df_test[~df_test.index.isin(to_remove)]\n",
    "print(df_test.shape)"
   ]
  },
  {
   "cell_type": "code",
   "execution_count": 510,
   "id": "0ffbe570",
   "metadata": {},
   "outputs": [
    {
     "data": {
      "application/vnd.jupyter.widget-view+json": {
       "model_id": "7d092b85d66d4fdca7f66a3b205e3567",
       "version_major": 2,
       "version_minor": 0
      },
      "text/plain": [
       "0it [00:00, ?it/s]"
      ]
     },
     "metadata": {},
     "output_type": "display_data"
    },
    {
     "name": "stdout",
     "output_type": "stream",
     "text": [
      "\n",
      "0 duplicates in validation that are also present in test\n"
     ]
    }
   ],
   "source": [
    "counter = 0\n",
    "to_remove = []\n",
    "for i, data in tqdm(df_validation.iterrows()):\n",
    "    if data[\"claim\"] in test_list:\n",
    "        to_remove.append(i)\n",
    "        print(data[\"claim\"])\n",
    "        counter += 1\n",
    "\n",
    "print()        \n",
    "print(f\"{counter} duplicates in validation that are also present in test\")"
   ]
  },
  {
   "cell_type": "code",
   "execution_count": 511,
   "id": "624168b6",
   "metadata": {},
   "outputs": [
    {
     "name": "stdout",
     "output_type": "stream",
     "text": [
      "(15935, 6)\n",
      "(15935, 6)\n"
     ]
    }
   ],
   "source": [
    "print(df_validation.shape)\n",
    "df_validation = df_validation[~df_validation.index.isin(to_remove)]\n",
    "print(df_validation.shape)"
   ]
  },
  {
   "cell_type": "code",
   "execution_count": 512,
   "id": "c6214aab",
   "metadata": {},
   "outputs": [
    {
     "data": {
      "text/plain": [
       "set()"
      ]
     },
     "execution_count": 512,
     "metadata": {},
     "output_type": "execute_result"
    }
   ],
   "source": [
    "set(df_validation.index.tolist()).intersection(set(to_remove))"
   ]
  },
  {
   "cell_type": "code",
   "execution_count": 513,
   "id": "aa36f5cb",
   "metadata": {},
   "outputs": [
    {
     "data": {
      "image/png": "[encoded data removed]",
      "text/plain": [
       "<Figure size 640x480 with 1 Axes>"
      ]
     },
     "metadata": {},
     "output_type": "display_data"
    },
    {
     "data": {
      "text/plain": [
       "SUPPORTS           50.290218\n",
       "NOT ENOUGH INFO    29.078707\n",
       "REFUTES            20.631075\n",
       "Name: label, dtype: float64"
      ]
     },
     "execution_count": 513,
     "metadata": {},
     "output_type": "execute_result"
    }
   ],
   "source": [
    "df_whole = pd.read_csv(\"../data/verification/FEVER/fever_train.csv\", index_col=0)\n",
    "plt.hist(df_whole[\"label\"])\n",
    "plt.show()\n",
    "\n",
    "\n",
    "(df_whole[\"label\"].value_counts()/df_whole[\"label\"].count()) * 100"
   ]
  },
  {
   "cell_type": "code",
   "execution_count": 518,
   "id": "c329e517",
   "metadata": {},
   "outputs": [
    {
     "data": {
      "image/png": "[encoded data removed]",
      "text/plain": [
       "<Figure size 640x480 with 1 Axes>"
      ]
     },
     "metadata": {},
     "output_type": "display_data"
    },
    {
     "data": {
      "text/plain": [
       "SUPPORTS           50.286667\n",
       "NOT ENOUGH INFO    29.080000\n",
       "REFUTES            20.633333\n",
       "Name: label, dtype: float64"
      ]
     },
     "execution_count": 518,
     "metadata": {},
     "output_type": "execute_result"
    }
   ],
   "source": [
    "tmp = df_train[\"label\"].map({\n",
    "    0:\"REFUTES\",\n",
    "    1:\"SUPPORTS\",\n",
    "    2:\"NOT ENOUGH INFO\",\n",
    "})\n",
    "plt.hist(tmp)\n",
    "plt.show()\n",
    "\n",
    "(tmp.value_counts()/tmp.count()) * 100"
   ]
  },
  {
   "cell_type": "code",
   "execution_count": 515,
   "id": "52cb102d",
   "metadata": {},
   "outputs": [
    {
     "data": {
      "image/png": "[encoded data removed]",
      "text/plain": [
       "<Figure size 640x480 with 1 Axes>"
      ]
     },
     "metadata": {},
     "output_type": "display_data"
    },
    {
     "data": {
      "text/plain": [
       "NOT ENOUGH INFO    40.225918\n",
       "REFUTES            30.668340\n",
       "SUPPORTS           29.105742\n",
       "Name: label, dtype: float64"
      ]
     },
     "execution_count": 515,
     "metadata": {},
     "output_type": "execute_result"
    }
   ],
   "source": [
    "plt.hist(df_validation[\"label\"])\n",
    "plt.show()\n",
    "\n",
    "\n",
    "(df_validation[\"label\"].value_counts()/df_validation[\"label\"].count()) * 100"
   ]
  },
  {
   "cell_type": "code",
   "execution_count": 517,
   "id": "5003cb32",
   "metadata": {},
   "outputs": [
    {
     "data": {
      "image/png": "[encoded data removed]",
      "text/plain": [
       "<Figure size 640x480 with 1 Axes>"
      ]
     },
     "metadata": {},
     "output_type": "display_data"
    },
    {
     "data": {
      "text/plain": [
       "NOT ENOUGH INFO    40.251886\n",
       "REFUTES            30.481950\n",
       "SUPPORTS           29.266164\n",
       "Name: label, dtype: float64"
      ]
     },
     "execution_count": 517,
     "metadata": {},
     "output_type": "execute_result"
    }
   ],
   "source": [
    "plt.hist(df_test[\"label\"])\n",
    "plt.show()\n",
    "\n",
    "(df_test[\"label\"].value_counts()/df_test[\"label\"].count()) * 100"
   ]
  }
 ],
 "metadata": {
  "kernelspec": {
   "display_name": "Python 3 (ipykernel)",
   "language": "python",
   "name": "python3"
  },
  "language_info": {
   "codemirror_mode": {
    "name": "ipython",
    "version": 3
   },
   "file_extension": ".py",
   "mimetype": "text/x-python",
   "name": "python",
   "nbconvert_exporter": "python",
   "pygments_lexer": "ipython3",
   "version": "3.10.6"
  }
 },
 "nbformat": 4,
 "nbformat_minor": 5
}
